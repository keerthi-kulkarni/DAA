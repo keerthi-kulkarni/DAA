{
  "nbformat": 4,
  "nbformat_minor": 0,
  "metadata": {
    "colab": {
      "provenance": [],
      "include_colab_link": true
    },
    "kernelspec": {
      "name": "python3",
      "display_name": "Python 3"
    },
    "language_info": {
      "name": "python"
    }
  },
  "cells": [
    {
      "cell_type": "markdown",
      "metadata": {
        "id": "view-in-github",
        "colab_type": "text"
      },
      "source": [
        "<a href=\"https://colab.research.google.com/github/keerthi-kulkarni/DAA/blob/main/lesson4_.ipynb\" target=\"_parent\"><img src=\"https://colab.research.google.com/assets/colab-badge.svg\" alt=\"Open In Colab\"/></a>"
      ]
    },
    {
      "cell_type": "markdown",
      "source": [
        "# 🧑‍🏫 Lesson 4: 0/1 Knapsack Problem – Introduction to Dynamic Programming\n",
        "🎯 Learning Objectives\n",
        "\n",
        "By the end of this lesson, students will:\n",
        "\n",
        "    Understand what Dynamic Programming (DP) is and when to use it\n",
        "\n",
        "    Learn the 0/1 Knapsack Problem – a classic DP example\n",
        "\n",
        "    Solve problems by breaking them into subproblems\n",
        "\n",
        "    Implement the DP table-based solution using Python\n",
        "\n",
        "🧳 Problem Statement (Simple Version)\n",
        "\n",
        "    A thief has a bag (knapsack) with a weight limit.\n",
        "    There are items, each with:\n",
        "\n",
        "    a weight and\n",
        "\n",
        "    a value\n",
        "\n",
        "👉 The thief wants to maximize value without exceeding the weight limit.\n",
        "But he can take only 1 of each item (0/1 condition — either take it or leave it).<br>\n",
        "**🧠 Example:**"
      ],
      "metadata": {
        "id": "TDkpXK-S8Fkz"
      }
    },
    {
      "cell_type": "code",
      "source": [
        "Weights = [1, 3, 4, 5]\n",
        "Values  = [1, 4, 5, 7]\n",
        "Capacity = 7"
      ],
      "metadata": {
        "id": "x_86MuDm8aBG"
      },
      "execution_count": null,
      "outputs": []
    },
    {
      "cell_type": "code",
      "source": [
        "def knapsack(weights, values, capacity):\n",
        "    n = len(weights)\n",
        "    dp = [[0 for _ in range(capacity + 1)] for _ in range(n + 1)]\n",
        "\n",
        "    for i in range(1, n + 1):  # Loop through items\n",
        "        for w in range(1, capacity + 1):  # Loop through all capacities\n",
        "            if weights[i-1] <= w:\n",
        "                # Option 1: take it, Option 2: don't take it\n",
        "                dp[i][w] = max(values[i-1] + dp[i-1][w - weights[i-1]],\n",
        "                               dp[i-1][w])\n",
        "            else:\n",
        "                dp[i][w] = dp[i-1][w]  # Can't take item\n",
        "\n",
        "    return dp[n][capacity]\n"
      ],
      "metadata": {
        "id": "ArK6nPeo8fR8"
      },
      "execution_count": null,
      "outputs": []
    },
    {
      "cell_type": "code",
      "source": [
        "weights = [1, 3, 4, 5]\n",
        "values = [1, 4, 5, 7]\n",
        "capacity = 7\n",
        "\n",
        "print(\"Maximum value:\", knapsack(weights, values, capacity))\n"
      ],
      "metadata": {
        "id": "dqiYBt8n8ln4"
      },
      "execution_count": null,
      "outputs": []
    },
    {
      "cell_type": "markdown",
      "source": [
        "🔹 What this does:\n",
        "\n",
        "    n = len(weights) → Total number of items\n",
        "\n",
        "    dp[i][w] will store the maximum value we can get using the first i items and capacity w\n",
        "\n",
        "    We create a table with (n+1) rows and (capacity+1) columns and initialize all values to 0\n",
        "\n",
        "\n",
        "We loop through every item and every capacity (from 1 to the full bag size).<br>\n",
        "**⚖️ Decision Time (for each item):**\n",
        "\n",
        "This is the main logic:\n",
        "\n",
        "    Can the item fit in the bag? (weights[i-1] <= w)\n",
        "\n",
        "    If YES, we have two choices:\n",
        "\n",
        "        Take the item → add its value, and reduce the capacity (w - weights[i-1])\n",
        "\n",
        "        Don't take it → value stays same as previous row\n",
        "\n",
        "Then we take the better (maximum) of the two.<br>\n",
        "**🚫 If the item doesn't fit:**\n",
        "Just skip the item.\n",
        "\n",
        "Carry forward the best value from the row above (i.e., not taking the item).\n",
        "This returns the maximum value we can get using all n items and full capacity."
      ],
      "metadata": {
        "id": "11uHbkmBCFUI"
      }
    }
  ]
}