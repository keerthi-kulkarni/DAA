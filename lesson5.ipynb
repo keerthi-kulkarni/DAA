{
  "nbformat": 4,
  "nbformat_minor": 0,
  "metadata": {
    "colab": {
      "provenance": [],
      "include_colab_link": true
    },
    "kernelspec": {
      "name": "python3",
      "display_name": "Python 3"
    },
    "language_info": {
      "name": "python"
    }
  },
  "cells": [
    {
      "cell_type": "markdown",
      "metadata": {
        "id": "view-in-github",
        "colab_type": "text"
      },
      "source": [
        "<a href=\"https://colab.research.google.com/github/keerthi-kulkarni/DAA/blob/main/lesson5.ipynb\" target=\"_parent\"><img src=\"https://colab.research.google.com/assets/colab-badge.svg\" alt=\"Open In Colab\"/></a>"
      ]
    },
    {
      "cell_type": "markdown",
      "source": [
        "# 🧑‍🏫 Lesson 5: Graph Traversal – Depth First Search (DFS)\n",
        "\n",
        "📚 Based on Unit 5: Exploring Graphs\n",
        "\n",
        "    Topics include Undirected/Directed Graphs, DFS, BFS, and Topological Sort.\n",
        "\n",
        "🎯 Learning Objectives\n",
        "\n",
        "By the end of this lesson, students will:\n",
        "\n",
        "    Understand what a graph is (nodes + edges)\n",
        "\n",
        "    Learn how Depth First Search (DFS) works\n",
        "\n",
        "    Traverse graphs using recursion and visited lists\n",
        "\n",
        "    Implement DFS in Python\n",
        "\n",
        "🌐 What is a Graph?\n",
        "\n",
        "    A graph is a collection of nodes (vertices) and connections (edges)\n",
        "\n",
        "    Can be:\n",
        "\n",
        "        Undirected (two-way connection)\n",
        "\n",
        "        Directed (one-way connection)\n",
        "\n",
        "    Used in: maps, social networks, internet, game levels\n",
        "\n",
        "🧠 What is DFS (Depth First Search)?\n",
        "\n",
        "    DFS is like exploring a maze:\n",
        "    You go as deep as you can on one path before turning back and trying others.\n",
        "\n",
        "🐍 Python Code: DFS using Adjacency List"
      ],
      "metadata": {
        "id": "CoEsJQadT7C2"
      }
    },
    {
      "cell_type": "code",
      "execution_count": null,
      "metadata": {
        "id": "TvBA0trFTisT"
      },
      "outputs": [],
      "source": [
        "def dfs(graph, node, visited):\n",
        "    if node not in visited:\n",
        "        print(node, end=\" \")       # Visit the node\n",
        "        visited.add(node)          # Mark as visited\n",
        "        for neighbor in graph[node]:\n",
        "            dfs(graph, neighbor, visited)\n",
        "\n",
        "# Example graph as dictionary (adjacency list)\n",
        "graph = {\n",
        "    'A': ['B', 'C'],\n",
        "    'B': ['D', 'E'],\n",
        "    'C': ['F'],\n",
        "    'D': [],\n",
        "    'E': ['F'],\n",
        "    'F': []\n",
        "}\n",
        "\n",
        "visited = set()\n",
        "print(\"DFS Traversal:\")\n",
        "dfs(graph, 'A', visited)\n"
      ]
    }
  ]
}